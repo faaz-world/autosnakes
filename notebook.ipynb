{
 "cells": [
  {
   "cell_type": "code",
   "execution_count": 1,
   "metadata": {},
   "outputs": [],
   "source": [
    "import numpy as np\n",
    "import torch\n",
    "import torch.nn as nn\n",
    "import os\n",
    "import neat\n",
    "from collections import deque\n",
    "import itertools"
   ]
  },
  {
   "cell_type": "code",
   "execution_count": 2,
   "metadata": {},
   "outputs": [],
   "source": [
    "class neural_network:\n",
    "    def feedforward(self, input):\n",
    "        activate = nn.Sigmoid()\n",
    "        second_layer = activate(torch.tensordot(self.weights_1, input, 2))\n",
    "        output = activate(torch.tensordot(self.weights_2, second_layer))\n",
    "        return output\n",
    "\n",
    "    def run(self):\n",
    "        config_path = os.path.join(os.path.dirname(\"\"), \"neat.cfg\")\n",
    "        config = neat.Config(\n",
    "            neat.DefaultGenome,\n",
    "            neat.DefaultReproduction,\n",
    "            neat.DefaultSpeciesSet,\n",
    "            neat.DefaultStagnation,\n",
    "            config_path,\n",
    "        )\n",
    "        neat.Population(config)"
   ]
  },
  {
   "cell_type": "code",
   "execution_count": 24,
   "metadata": {},
   "outputs": [],
   "source": [
    "class snake:\n",
    "    def __init__(self) -> None:\n",
    "        self.board = torch.zeros((60, 60))\n",
    "        self.score = 0\n",
    "        self.reset()\n",
    "\n",
    "    def reset(self):\n",
    "        self.snake1 = deque([[10, 4], [9, 4], [8, 4], [7, 4]])\n",
    "        self.head = [10, 4]\n",
    "        self.snake1_direction = \"RIGHT\"\n",
    "        self.board.zero_()\n",
    "        for coord in self.snake1:\n",
    "            self.board[tuple(coord)] = 1\n",
    "\n",
    "    def generate_fruit(self):\n",
    "        numpy_array = torch.Tensor(self.board).numpy()\n",
    "        indicies = np.where(numpy_array == 0)\n",
    "        indicies = np.column_stack(indicies)\n",
    "        fruit_index = np.random.randint(len(indicies))\n",
    "        self.board[fruit_index] += 2\n",
    "\n",
    "    def generate_head(self, direction):\n",
    "        head = self.snake1[0].copy()\n",
    "        if direction == \"UP\":\n",
    "            head[1] += 1\n",
    "        if direction == \"DOWN\":\n",
    "            head[1] -= 1\n",
    "        if direction == \"LEFT\":\n",
    "            head[0] += 1\n",
    "        if direction == \"RIGHT\":\n",
    "            head[0] -= 1\n",
    "        return head\n",
    "\n",
    "    def validate_head(self, head):\n",
    "        if head[0] < 0 or head[0] >= 60 or head[1] < 0 or head[1] >= 60:\n",
    "            return 1\n",
    "        return self.board[tuple(head)]\n",
    "\n",
    "    def move(self, direction):\n",
    "        snake1_direction = self.snake1_direction\n",
    "        if direction == \"UP\" and snake1_direction != \"DOWN\":\n",
    "            snake1_direction = \"UP\"\n",
    "        if direction == \"DOWN\" and snake1_direction != \"UP\":\n",
    "            snake1_direction = \"DOWN\"\n",
    "        if direction == \"LEFT\" and snake1_direction != \"RIGHT\":\n",
    "            snake1_direction = \"LEFT\"\n",
    "        if direction == \"RIGHT\" and snake1_direction != \"LEFT\":\n",
    "            snake1_direction = \"RIGHT\"\n",
    "        head = self.generate_head(snake1_direction)\n",
    "        head_type = self.validate_head(head)\n",
    "        if head_type == 2:\n",
    "            self.score += 1\n",
    "        if head_type == 1:\n",
    "            return False\n",
    "        if head_type == 0:\n",
    "            self.snake1.pop()\n",
    "        self.head = head\n",
    "        self.snake1.appendleft(head)\n",
    "        return True"
   ]
  },
  {
   "cell_type": "code",
   "execution_count": 25,
   "metadata": {},
   "outputs": [
    {
     "name": "stdout",
     "output_type": "stream",
     "text": [
      "[0 0]\n"
     ]
    }
   ],
   "source": [
    "mysnake = snake()\n",
    "mysnake.generate_fruit()"
   ]
  },
  {
   "cell_type": "code",
   "execution_count": 91,
   "metadata": {},
   "outputs": [
    {
     "name": "stdout",
     "output_type": "stream",
     "text": [
      "<itertools.product object at 0x7fc2893c3630>\n"
     ]
    }
   ],
   "source": [
    "print(set(itertools.product(range(1, 51), repeat=2)))"
   ]
  }
 ],
 "metadata": {
  "kernelspec": {
   "display_name": "Python 3.5.6 ('pytorch_neat_3.5')",
   "language": "python",
   "name": "python3"
  },
  "language_info": {
   "codemirror_mode": {
    "name": "ipython",
    "version": 3
   },
   "file_extension": ".py",
   "mimetype": "text/x-python",
   "name": "python",
   "nbconvert_exporter": "python",
   "pygments_lexer": "ipython3",
   "version": "3.5.6"
  },
  "orig_nbformat": 4,
  "vscode": {
   "interpreter": {
    "hash": "6b2ea87ce116eac2a51c9f95724a6fa792ec8fb5705a558d879412f6a96d9e8b"
   }
  }
 },
 "nbformat": 4,
 "nbformat_minor": 2
}
